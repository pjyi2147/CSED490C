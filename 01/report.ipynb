{
 "cells": [
  {
   "cell_type": "markdown",
   "metadata": {},
   "source": [
    "## CSED 490C\n",
    "## LAB1\n",
    "## Jeongseop Yi (49004543)"
   ]
  },
  {
   "cell_type": "markdown",
   "metadata": {},
   "source": [
    "### Q1\n",
    "\n",
    "a)\n",
    "\n",
    "There is only one floating point operation being performed in `vecAdd` kernel function in each call. \n",
    "The floating point operation occurs when adding two inputs.\n",
    "\n",
    "b)\n",
    "\n",
    "There are 2 $\\times$ `inputLength` $\\times$ `sizeof(float)` bytes of global memory read occured when copying the input1 and input2 data from the host memory. \n",
    "\n",
    "c)\n",
    "\n",
    "There are `inputLength` $\\times$ `sizeof(float)` bytes of global memory write occured when copying the output data from device to host. "
   ]
  },
  {
   "cell_type": "markdown",
   "metadata": {},
   "source": [
    "### Q3\n",
    "\n",
    "![Alt text](<VectorAdd kernel execution times.png>)"
   ]
  },
  {
   "cell_type": "markdown",
   "metadata": {},
   "source": [
    "#### Raw data table\n",
    "\n",
    "| Test # | Size  | Import data to host | Allocate GPU memory | Copy data to device | Compute  | Copy output to host | Free GPU memory | Total (only GPU) | Total (including host) |\n",
    "|--------|-------|---------------------|---------------------|---------------------|----------|---------------------|-----------------|------------------|------------------------|\n",
    "|      0 |    16 |             1.58198 |            0.219243 |            0.053002 | 0.057479 |            0.028676 |        0.148068 |         0.506468 |               2.088448 |\n",
    "|      1 |    64 |             1.22658 |            0.153717 |            0.038885 |  0.04554 |            0.023313 |        0.136761 |         0.398216 |               1.624796 |\n",
    "|      2 |    93 |             2.06253 |            0.156052 |            0.038468 | 0.044665 |            0.023509 |        0.113151 |         0.375845 |               2.438375 |\n",
    "|      3 |   112 |             2.04189 |            0.131509 |            0.034798 | 0.039605 |            0.021266 |        0.097762 |          0.32494 |                2.36683 |\n",
    "|      4 |  1120 |             9.72634 |            0.129078 |            0.034915 | 0.038584 |            0.020557 |        0.092681 |         0.315815 |              10.042155 |\n",
    "|      5 |  9921 |             75.7216 |            0.125802 |             0.05157 | 0.038551 |            0.028318 |        0.090797 |         0.335038 |              76.056638 |\n",
    "|      6 | 14000 |             106.638 |            0.122333 |            0.061644 | 0.038686 |            0.032528 |        0.092119 |          0.34731 |              106.98531 |\n",
    "|      7 | 25365 |             190.847 |            0.124614 |            0.070601 | 0.039368 |            0.038714 |        0.094134 |         0.367431 |             191.214431 |\n",
    "|      8 | 48000 |              339.33 |            0.112181 |            0.095793 |   0.0354 |            0.064432 |        0.083638 |         0.391444 |             339.721444 |\n",
    "|      9 | 96000 |             676.031 |            0.118052 |            0.166538 | 0.037138 |            0.101439 |        0.086432 |         0.509599 |             676.540599 |"
   ]
  }
 ],
 "metadata": {
  "language_info": {
   "name": "python"
  },
  "orig_nbformat": 4
 },
 "nbformat": 4,
 "nbformat_minor": 2
}
